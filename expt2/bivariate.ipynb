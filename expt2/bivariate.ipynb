{
 "cells": [
  {
   "cell_type": "code",
   "execution_count": 9,
   "id": "1ab3d4ec-6517-4e09-b7be-4ed26c73d9e1",
   "metadata": {},
   "outputs": [
    {
     "name": "stdout",
     "output_type": "stream",
     "text": [
      "Bivariate Analysis: Height (inches) vs Weight (pounds)\n",
      "--------------------------------------------------\n",
      "Number of records: 25000\n",
      "Mean Height: 67.993 inches\n",
      "Mean Weight: 127.079 pounds\n",
      "\n",
      "Covariance Matrix:\n",
      "[[3.616, 11.151],\n",
      " [11.151, 135.977]]\n",
      "\n",
      "Pearson Correlation Coefficient (manual): 0.503\n",
      "Linear Regression Equation: Weight = -82.576 + 3.083 * Height\n"
     ]
    }
   ],
   "source": [
    "import pandas as pd\n",
    "def mean(data):\n",
    "    return sum(data)/len(data)\n",
    "def variance(data,mean):\n",
    "    return sum((x-mean)**2 for x in data)/(len(data)-1)\n",
    "def covariance(x,y,mean_x,mean_y):\n",
    "    return sum((x[i]-mean_x)*(y[i]-mean_y) for i in range(len(x)))/(len(x)-1)\n",
    "def std_dev(variance):\n",
    "    return variance**0.5\n",
    "def corr(cov,stdx,stdy):\n",
    "    return cov/(stdx*stdy)\n",
    "def reg_coef(cov,var_x,meanx,meany):\n",
    "    slope=cov/var_x\n",
    "    intercept=meany-slope*meanx\n",
    "    return intercept,slope\n",
    "def cov_matrix(varx,vary,covxy):\n",
    "    return [[varx,covxy],[covxy,vary]]\n",
    "    \n",
    "df=pd.read_csv('height_weight.csv',index_col=0)\n",
    "heights=df['Height(Inches)'].tolist()\n",
    "weights=df['Weight(Pounds)'].tolist()\n",
    "\n",
    "mean_height=mean(heights)\n",
    "mean_weight=mean(weights)\n",
    "\n",
    "var_height=variance(heights,mean_height)\n",
    "var_weight=variance(weights,mean_weight)\n",
    "\n",
    "std_height=std_dev(var_height)\n",
    "std_weight=std_dev(var_weight)\n",
    "\n",
    "cov_hw=covariance(heights,weights,mean_height,mean_weight)\n",
    "\n",
    "correlation=corr(cov_hw,std_height,std_weight)\n",
    "\n",
    "intercept,slope = reg_coef(cov_hw,var_height,mean_height,mean_weight)\n",
    "\n",
    "print(\"Bivariate Analysis: Height (inches) vs Weight (pounds)\")\n",
    "print(\"-\" * 50)\n",
    "print(f\"Number of records: {len(heights)}\")\n",
    "print(f\"Mean Height: {mean_height:.3f} inches\")\n",
    "print(f\"Mean Weight: {mean_weight:.3f} pounds\")\n",
    "\n",
    "cov_mat=cov_matrix(var_height,var_weight,cov_hw)\n",
    "\n",
    "print(\"\\nCovariance Matrix:\")\n",
    "print(f\"[[{cov_mat[0][0]:.3f}, {cov_mat[0][1]:.3f}],\")\n",
    "print(f\" [{cov_mat[1][0]:.3f}, {cov_mat[1][1]:.3f}]]\")\n",
    "\n",
    "print(f\"\\nPearson Correlation Coefficient (manual): {correlation:.3f}\")\n",
    "print(f\"Linear Regression Equation: Weight = {intercept:.3f} + {slope:.3f} * Height\")"
   ]
  },
  {
   "cell_type": "code",
   "execution_count": null,
   "id": "d56ee211-262c-4a33-b9b1-3d27d885f5dc",
   "metadata": {},
   "outputs": [],
   "source": []
  },
  {
   "cell_type": "code",
   "execution_count": null,
   "id": "b9fb53b1-9d8b-47d1-ac75-11f987713ec1",
   "metadata": {},
   "outputs": [],
   "source": []
  }
 ],
 "metadata": {
  "kernelspec": {
   "display_name": "Python 3 (ipykernel)",
   "language": "python",
   "name": "python3"
  },
  "language_info": {
   "codemirror_mode": {
    "name": "ipython",
    "version": 3
   },
   "file_extension": ".py",
   "mimetype": "text/x-python",
   "name": "python",
   "nbconvert_exporter": "python",
   "pygments_lexer": "ipython3",
   "version": "3.12.3"
  }
 },
 "nbformat": 4,
 "nbformat_minor": 5
}
