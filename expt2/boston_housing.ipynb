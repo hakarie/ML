{
 "cells": [
  {
   "cell_type": "code",
   "execution_count": 9,
   "id": "e9c5ab18",
   "metadata": {},
   "outputs": [
    {
     "name": "stdout",
     "output_type": "stream",
     "text": [
      "Model Coefficients: [-0.11, 0.04, 0.03, 1.98, -17.08, 4.26, -0.02, -1.42, 0.24, -0.01, -0.98, 0.01, -0.39]\n",
      "Intercept: 33.65\n",
      "Mean Squared Error: 31.45\n",
      "R² Score: 0.63\n",
      "Predicted House Price: Rs,2,476,347.86\n"
     ]
    }
   ],
   "source": [
    "import pandas as pd\n",
    "from sklearn.linear_model import LinearRegression\n",
    "from sklearn.model_selection import train_test_split\n",
    "from sklearn.metrics import mean_squared_error, r2_score\n",
    "\n",
    "# Step 1: Load dataset\n",
    "data = pd.read_csv(\"boston_housing.csv\")\n",
    "\n",
    "# Step 2: Handle missing values (cleaning)\n",
    "data = data.dropna()  # Alternatively: data.fillna(data.mean(numeric_only=True))\n",
    "\n",
    "# Step 3: Split data into features and target\n",
    "X = data.drop(\"MEDV\", axis=1)  # 'MEDV' is target\n",
    "y = data[\"MEDV\"]\n",
    "\n",
    "# Step 4: Train-Test Split\n",
    "X_train, X_test, y_train, y_test = train_test_split(X, y, test_size=0.2, random_state=42)\n",
    "\n",
    "# Step 5: Train Linear Regression Model\n",
    "model = LinearRegression()\n",
    "model.fit(X_train, y_train)\n",
    "\n",
    "# Step 6: Evaluate\n",
    "y_pred = model.predict(X_test)\n",
    "mse = mean_squared_error(y_test, y_pred)\n",
    "r2 = r2_score(y_test, y_pred)\n",
    "\n",
    "# Step 7: Output (cleaned and rounded)\n",
    "rounded_coeffs = [round(float(c), 2) for c in model.coef_]\n",
    "print(\"Model Coefficients:\", rounded_coeffs)\n",
    "print(\"Intercept:\", round(float(model.intercept_), 2))\n",
    "print(\"Mean Squared Error:\", round(mse, 2))\n",
    "print(\"R² Score:\", round(r2, 2))\n",
    "\n",
    "# Step 8: Static Sample Prediction (Output in INR only)\n",
    "sample_input = [0.1, 18.0, 2.31, 0, 0.538, 6.575, 65.2, 4.09, 1, 296, 15.3, 396.9, 4.98]\n",
    "\n",
    "# Convert to DataFrame\n",
    "sample_df = pd.DataFrame([sample_input], columns=X.columns)\n",
    "\n",
    "# Make prediction\n",
    "prediction = model.predict(sample_df)[0]  # in 1000s USD\n",
    "inr_price = prediction * 1000 * 83.5  # Convert to INR\n",
    "\n",
    "print(f\"Predicted House Price: Rs,{inr_price:,.2f}\")\n"
   ]
  }
 ],
 "metadata": {
  "kernelspec": {
   "display_name": "Python 3",
   "language": "python",
   "name": "python3"
  },
  "language_info": {
   "codemirror_mode": {
    "name": "ipython",
    "version": 3
   },
   "file_extension": ".py",
   "mimetype": "text/x-python",
   "name": "python",
   "nbconvert_exporter": "python",
   "pygments_lexer": "ipython3",
   "version": "3.13.5"
  }
 },
 "nbformat": 4,
 "nbformat_minor": 5
}
