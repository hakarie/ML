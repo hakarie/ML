{
 "cells": [
  {
   "cell_type": "code",
   "execution_count": 1,
   "id": "906ba966",
   "metadata": {},
   "outputs": [
    {
     "name": "stdout",
     "output_type": "stream",
     "text": [
      "Linear Regression using Matrix Method (Normal Equation)\n",
      "-------------------------------------------------------\n",
      "Number of records: 25000\n",
      "Intercept (b₀): -82.576\n",
      "Slope     (b₁): 3.083\n",
      "Regression Equation: Weight = -82.576 + 3.083 * Height\n"
     ]
    }
   ],
   "source": [
    "import pandas as pd\n",
    "import numpy as np\n",
    "\n",
    "# Load data\n",
    "df = pd.read_csv('height_weight.csv', index_col=0)\n",
    "heights = df['Height(Inches)'].values\n",
    "weights = df['Weight(Pounds)'].values\n",
    "\n",
    "# Create the design matrix X with a column of ones for the intercept term\n",
    "X = np.column_stack((np.ones(len(heights)), heights))  # Shape: (n_samples, 2)\n",
    "y = weights  # Output vector\n",
    "\n",
    "# Normal Equation: θ = (XᵀX)^(-1) Xᵀy\n",
    "X_transpose = X.T\n",
    "theta = np.linalg.inv(X_transpose @ X) @ X_transpose @ y\n",
    "\n",
    "intercept = theta[0]\n",
    "slope = theta[1]\n",
    "\n",
    "# Predictions (optional)\n",
    "y_pred = X @ theta\n",
    "\n",
    "# Output results\n",
    "print(\"Linear Regression using Matrix Method (Normal Equation)\")\n",
    "print(\"-\" * 55)\n",
    "print(f\"Number of records: {len(heights)}\")\n",
    "print(f\"Intercept (b₀): {intercept:.3f}\")\n",
    "print(f\"Slope     (b₁): {slope:.3f}\")\n",
    "print(f\"Regression Equation: Weight = {intercept:.3f} + {slope:.3f} * Height\")\n"
   ]
  }
 ],
 "metadata": {
  "kernelspec": {
   "display_name": "Python 3",
   "language": "python",
   "name": "python3"
  },
  "language_info": {
   "codemirror_mode": {
    "name": "ipython",
    "version": 3
   },
   "file_extension": ".py",
   "mimetype": "text/x-python",
   "name": "python",
   "nbconvert_exporter": "python",
   "pygments_lexer": "ipython3",
   "version": "3.13.5"
  }
 },
 "nbformat": 4,
 "nbformat_minor": 5
}
